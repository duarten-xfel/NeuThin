{
 "cells": [
  {
   "cell_type": "code",
   "execution_count": 1,
   "metadata": {},
   "outputs": [],
   "source": [
    "# IMPORTS\n",
    "import matplotlib.pyplot as plt\n",
    "from matplotlib import ticker\n",
    "from scipy.optimize import curve_fit\n",
    "%matplotlib inline\n",
    "import numpy as np\n",
    "import pandas as pd\n",
    "from numpy import trapz\n",
    "import time as time\n",
    "import sys"
   ]
  },
  {
   "cell_type": "code",
   "execution_count": 2,
   "metadata": {},
   "outputs": [
    {
     "name": "stdout",
     "output_type": "stream",
     "text": [
      "Time Elapsed: 3.82 s\n"
     ]
    }
   ],
   "source": [
    "# READ DATA\n",
    "tic = time.time()\n",
    "\n",
    "fname = 'Tracking_1e5n_CutGas10um_CutSolid50nm_SymmetricDeposition.txt'\n",
    "data = pd.read_csv(fname,\n",
    "                   sep='\\t',\n",
    "                   names=['eventID', 'det', 'PID', 'E', 'xpos', 'ypos', 'zpos', 'dE', 'dx', 'dy','dz', 'dr','dx_cum', 'dy_cum','dz_cum', 'dr_cum'],\n",
    "                   usecols=[0,1,2,3,4,5,6,7,8,11,12,15])\n",
    "\n",
    "print('Time Elapsed: ' + str(np.round(time.time()-tic,2)) + ' s')"
   ]
  },
  {
   "cell_type": "code",
   "execution_count": 3,
   "metadata": {},
   "outputs": [
    {
     "ename": "NameError",
     "evalue": "name 'N_events' is not defined",
     "output_type": "error",
     "traceback": [
      "\u001b[1;31m---------------------------------------------------------------------------\u001b[0m",
      "\u001b[1;31mNameError\u001b[0m                                 Traceback (most recent call last)",
      "\u001b[1;32m<ipython-input-3-8d45a274bd84>\u001b[0m in \u001b[0;36m<module>\u001b[1;34m\u001b[0m\n\u001b[0;32m     47\u001b[0m \u001b[0mevents_coinc_detA_Li\u001b[0m \u001b[1;33m=\u001b[0m \u001b[0mnp\u001b[0m\u001b[1;33m.\u001b[0m\u001b[0mintersect1d\u001b[0m\u001b[1;33m(\u001b[0m\u001b[0mevents_detA_Li\u001b[0m\u001b[1;33m,\u001b[0m\u001b[0mevents_detB_alpha\u001b[0m\u001b[1;33m)\u001b[0m\u001b[1;33m\u001b[0m\u001b[1;33m\u001b[0m\u001b[0m\n\u001b[0;32m     48\u001b[0m \u001b[1;33m\u001b[0m\u001b[0m\n\u001b[1;32m---> 49\u001b[1;33m \u001b[0mprint\u001b[0m\u001b[1;33m(\u001b[0m\u001b[0mstr\u001b[0m\u001b[1;33m(\u001b[0m\u001b[0mN_events\u001b[0m\u001b[1;33m)\u001b[0m \u001b[1;33m+\u001b[0m \u001b[1;34m' total neutron captures detected:'\u001b[0m\u001b[1;33m)\u001b[0m\u001b[1;33m\u001b[0m\u001b[1;33m\u001b[0m\u001b[0m\n\u001b[0m\u001b[0;32m     50\u001b[0m \u001b[0mprint\u001b[0m\u001b[1;33m(\u001b[0m\u001b[1;34m'\\t'\u001b[0m\u001b[1;33m+\u001b[0m \u001b[0mstr\u001b[0m\u001b[1;33m(\u001b[0m\u001b[0mlen\u001b[0m\u001b[1;33m(\u001b[0m\u001b[0mevents_detA_alpha\u001b[0m\u001b[1;33m)\u001b[0m\u001b[1;33m)\u001b[0m \u001b[1;33m+\u001b[0m \u001b[1;34m' ('\u001b[0m \u001b[1;33m+\u001b[0m \u001b[0mstr\u001b[0m\u001b[1;33m(\u001b[0m\u001b[0mnp\u001b[0m\u001b[1;33m.\u001b[0m\u001b[0mround\u001b[0m\u001b[1;33m(\u001b[0m\u001b[0mlen\u001b[0m\u001b[1;33m(\u001b[0m\u001b[0mevents_detA_alpha\u001b[0m\u001b[1;33m)\u001b[0m\u001b[1;33m/\u001b[0m\u001b[0mN_neutrons\u001b[0m\u001b[1;33m*\u001b[0m\u001b[1;36m100\u001b[0m\u001b[1;33m,\u001b[0m\u001b[1;36m2\u001b[0m\u001b[1;33m)\u001b[0m\u001b[1;33m)\u001b[0m \u001b[1;33m+\u001b[0m \u001b[1;34m'%) -> \\u03B1 particles on det A'\u001b[0m\u001b[1;33m)\u001b[0m\u001b[1;33m\u001b[0m\u001b[1;33m\u001b[0m\u001b[0m\n\u001b[0;32m     51\u001b[0m \u001b[0mprint\u001b[0m\u001b[1;33m(\u001b[0m\u001b[1;34m'\\t'\u001b[0m\u001b[1;33m+\u001b[0m \u001b[0mstr\u001b[0m\u001b[1;33m(\u001b[0m\u001b[0mlen\u001b[0m\u001b[1;33m(\u001b[0m\u001b[0mevents_detA_Li\u001b[0m\u001b[1;33m)\u001b[0m\u001b[1;33m)\u001b[0m \u001b[1;33m+\u001b[0m \u001b[1;34m' ('\u001b[0m \u001b[1;33m+\u001b[0m \u001b[0mstr\u001b[0m\u001b[1;33m(\u001b[0m\u001b[0mnp\u001b[0m\u001b[1;33m.\u001b[0m\u001b[0mround\u001b[0m\u001b[1;33m(\u001b[0m\u001b[0mlen\u001b[0m\u001b[1;33m(\u001b[0m\u001b[0mevents_detA_Li\u001b[0m\u001b[1;33m)\u001b[0m\u001b[1;33m/\u001b[0m\u001b[0mN_neutrons\u001b[0m\u001b[1;33m*\u001b[0m\u001b[1;36m100\u001b[0m\u001b[1;33m,\u001b[0m\u001b[1;36m2\u001b[0m\u001b[1;33m)\u001b[0m\u001b[1;33m)\u001b[0m \u001b[1;33m+\u001b[0m \u001b[1;34m'%) -> \\u2077Li particles on det A'\u001b[0m\u001b[1;33m)\u001b[0m\u001b[1;33m\u001b[0m\u001b[1;33m\u001b[0m\u001b[0m\n",
      "\u001b[1;31mNameError\u001b[0m: name 'N_events' is not defined"
     ]
    }
   ],
   "source": [
    "tic = time.time()\n",
    "\n",
    "E_threshold = 100 #keV\n",
    "N_neutrons = np.power(10,np.ceil(np.log10(data['eventID'].iloc[-1]+1))) #get number of incident neutrons from last eventID\n",
    "\n",
    "#--- Det A ---# \n",
    "detA = data.loc[(data['det']=='A')]\n",
    "events_below_threshold = np.array(detA['eventID'].loc[(detA['dr_cum']==0) & (detA['E']<E_threshold)])\n",
    "detA = detA.loc[~(detA['eventID'].isin(events_below_threshold))]\n",
    "events_detA,events_detA_idx = np.unique(detA.loc[:,'eventID'],return_index=True);\n",
    "\n",
    "#--- Det A, alpha particle ---# \n",
    "detA_alpha = detA.loc[detA['PID']=='alpha']\n",
    "events_detA_alpha,events_detA_alpha_idx = np.unique(detA_alpha.loc[:,'eventID'],return_index=True);\n",
    "\n",
    "#--- Det A, Li particle ---# \n",
    "detA_Li = detA.loc[detA['PID']=='Li7']\n",
    "events_detA_Li,events_detA_Li_idx = np.unique(detA_Li.loc[:,'eventID'],return_index=True);\n",
    "\n",
    "#--- Det B ---# \n",
    "detB = data.loc[(data['det']=='B')]\n",
    "events_below_threshold = np.array(detB['eventID'].loc[(detB['dr_cum']==0) & (detB['E']<E_threshold)])\n",
    "detB = detB.loc[~(detB['eventID'].isin(events_below_threshold))]\n",
    "events_detB,events_detB_idx = np.unique(detB.loc[:,'eventID'],return_index=True);\n",
    "\n",
    "#--- Det B, alpha particle ---# \n",
    "detB_alpha = detB.loc[detB['PID']=='alpha']\n",
    "events_detB_alpha,events_detB_alpha_idx = np.unique(detB_alpha.loc[:,'eventID'],return_index=True);\n",
    "\n",
    "#--- Det B, Li particle ---# \n",
    "detB_Li = detB.loc[detB['PID']=='Li7']\n",
    "events_detB_Li,events_detB_Li_idx = np.unique(detB_Li.loc[:,'eventID'],return_index=True);\n",
    "\n",
    "#--- Det Coinc ---# \n",
    "detCoinc = data.loc[data['eventID'].isin(events_detA) & data['eventID'].isin(events_detB)]\n",
    "events_coinc,events_coinc_idx = np.unique(detCoinc.loc[:,'eventID'],return_index=True);\n",
    "\n",
    "detA_coinc = detCoinc.loc[detCoinc['det']=='A']\n",
    "events_coinc_detA,events_coinc_detA_idx = np.unique(detA_coinc.loc[:,'eventID'],return_index=True);\n",
    "\n",
    "detB_coinc = detCoinc.loc[detCoinc['det']=='B']\n",
    "events_coinc_detB,events_coinc_detB_idx = np.unique(detB_coinc.loc[:,'eventID'],return_index=True);\n",
    "\n",
    "events_coinc_detA_alpha = np.intersect1d(events_detA_alpha,events_detB_Li)\n",
    "events_coinc_detA_Li = np.intersect1d(events_detA_Li,events_detB_alpha)\n",
    "\n",
    "print(str(N_events) + ' total neutron captures detected:')\n",
    "print('\\t'+ str(len(events_detA_alpha)) + ' (' + str(np.round(len(events_detA_alpha)/N_neutrons*100,2)) + '%) -> \\u03B1 particles on det A')\n",
    "print('\\t'+ str(len(events_detA_Li)) + ' (' + str(np.round(len(events_detA_Li)/N_neutrons*100,2)) + '%) -> \\u2077Li particles on det A')\n",
    "print('\\t'+ str(len(events_detB_alpha)) + ' (' + str(np.round(len(events_detB_alpha)/N_neutrons*100,2)) + '%) -> \\u03B1 particles on det B')\n",
    "print('\\t'+ str(len(events_detB_Li)) + ' (' + str(np.round(len(events_detB_Li)/N_neutrons*100,2)) + '%) -> \\u2077Li particles on det B')\n",
    "print('\\n'+ str(len(events_coinc)) + ' coincidental neutron captures:')\n",
    "print('\\t'+ str(len(events_coinc_detA_alpha)) + ' (' +str(np.round(len(events_coinc_detA_alpha)/N_neutrons*100,2)) + '%) -> \\u03B1 on det A + \\u2077Li on det B')\n",
    "print('\\t'+ str(len(events_coinc_detA_Li)) + ' (' +str(np.round(len(events_coinc_detA_Li)/N_neutrons*100,2)) + '%) -> \\u2077Li on det A + \\u03B1 on det B')\n",
    "print('\\n Det A efficiency:    ' + str(np.round(len(events_detA)/N_neutrons*100,2)) + '%')\n",
    "print(' Coincidental efficiency: ' + str(np.round(len(events_coinc)/N_neutrons*100,2)) + '%')\n",
    "\n",
    "\n",
    "print('\\nTime Elapsed: ' + str(np.round(time.time()-tic,2)) + ' s')\n",
    "# del data"
   ]
  }
 ],
 "metadata": {
  "kernelspec": {
   "display_name": "Python 3",
   "language": "python",
   "name": "python3"
  },
  "language_info": {
   "codemirror_mode": {
    "name": "ipython",
    "version": 3
   },
   "file_extension": ".py",
   "mimetype": "text/x-python",
   "name": "python",
   "nbconvert_exporter": "python",
   "pygments_lexer": "ipython3",
   "version": "3.8.5"
  }
 },
 "nbformat": 4,
 "nbformat_minor": 4
}
